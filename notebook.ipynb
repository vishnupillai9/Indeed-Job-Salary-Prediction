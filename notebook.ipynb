{
 "cells": [
  {
   "cell_type": "markdown",
   "metadata": {},
   "source": [
    "## Prediction of Salary using Job Description"
   ]
  },
  {
   "cell_type": "markdown",
   "metadata": {},
   "source": [
    "In this project, we build a model to predict the job salaries of listings on Indeed using their descriptions. Indeed is one of the largest search engines for job listings. We scrape a subset of the data on the site to predict the job salaries."
   ]
  },
  {
   "cell_type": "code",
   "execution_count": null,
   "metadata": {
    "collapsed": true
   },
   "outputs": [],
   "source": [
    "# Install required packages using pip\n",
    "# !pip install tqdm\n",
    "# !pip install furl"
   ]
  },
  {
   "cell_type": "markdown",
   "metadata": {},
   "source": [
    "Import all the required packages."
   ]
  },
  {
   "cell_type": "code",
   "execution_count": 1,
   "metadata": {
    "collapsed": false
   },
   "outputs": [
    {
     "name": "stderr",
     "output_type": "stream",
     "text": [
      "/Users/vishnupillai/anaconda3/lib/python3.6/site-packages/requests/__init__.py:80: RequestsDependencyWarning: urllib3 (1.22) or chardet (2.3.0) doesn't match a supported version!\n",
      "  RequestsDependencyWarning)\n"
     ]
    }
   ],
   "source": [
    "import pandas as pd\n",
    "import numpy as np\n",
    "import urllib\n",
    "import requests\n",
    "import re\n",
    "import sys\n",
    "from bs4 import BeautifulSoup as Soup\n",
    "from tqdm import tqdm\n",
    "from furl import furl\n",
    "import nltk\n",
    "from sklearn.preprocessing import LabelEncoder\n",
    "from sklearn.feature_extraction.text import CountVectorizer\n",
    "from sklearn.naive_bayes import MultinomialNB\n",
    "from sklearn.neighbors import KNeighborsClassifier\n",
    "from sklearn.linear_model import LogisticRegression\n",
    "from sklearn.tree import DecisionTreeClassifier\n",
    "from sklearn.ensemble import VotingClassifier\n",
    "from sklearn.metrics import accuracy_score"
   ]
  },
  {
   "cell_type": "markdown",
   "metadata": {},
   "source": [
    "### Scraping"
   ]
  },
  {
   "cell_type": "markdown",
   "metadata": {},
   "source": [
    "The following are some of the helper functions to scrape the data from Indeed. For a given job title, the functions scrape job listings for different salary ranges. The data can be scraped here or using the shell script __scraping_script.sh__ since it's a time consuming process. The scraped job listings are stored in jobs.csv file."
   ]
  },
  {
   "cell_type": "code",
   "execution_count": 2,
   "metadata": {
    "collapsed": true
   },
   "outputs": [],
   "source": [
    "JOBS_FILE_PATH = 'jobs.csv'\n",
    "BASE_URL = 'https://www.indeed.com/jobs'\n",
    "VIEW_JOB_URL = \"https://www.indeed.com/viewjob\"\n",
    "city = 'New York, NY'\n",
    "\n",
    "\n",
    "def scrape_jobs_using_soup(url, df):\n",
    "    \"\"\"\n",
    "        This function scrapes the jobs from Indeed using BeautifulSoup\n",
    "    \"\"\"\n",
    "    target = Soup(urllib.request.urlopen(url), \"lxml\")\n",
    "    target_elements = target.findAll('div', attrs={'class':\n",
    "                                                   re.compile('row result')})\n",
    "\n",
    "    for elem in target_elements:\n",
    "        try:\n",
    "            # Get the job key, company name, title and location\n",
    "            job_key = elem.attrs['data-jk']\n",
    "            company_name = elem.find('span', {'class':\n",
    "                                              re.compile(\n",
    "                                                  'company')}).text.strip()\n",
    "            job_title = elem.find('a', {'class':\n",
    "                                        'turnstileLink'}).attrs['title']\n",
    "            job_location = elem.find('span', {'class':\n",
    "                                              'location'}).text.strip()\n",
    "        except (KeyError, AttributeError):\n",
    "            pass\n",
    "\n",
    "        try:\n",
    "            if (df['job_key'] == job_key).any():\n",
    "                # Check if job key already exists in the csv file\n",
    "                # to avoid duplicate entries\n",
    "                continue\n",
    "        except KeyError:\n",
    "            pass\n",
    "\n",
    "        f = furl(VIEW_JOB_URL)\n",
    "        f.args['jk'] = job_key\n",
    "        job_link = f.url\n",
    "\n",
    "        targetDesc = Soup(urllib.request.urlopen(job_link), \"lxml\")\n",
    "        job_summary = targetDesc.find('span', {'id':\n",
    "                                               'job_summary'}).text.strip()\n",
    "\n",
    "        entry = {\n",
    "            'company_name': company_name,\n",
    "            'job_title': job_title,\n",
    "            'job_location': job_location,\n",
    "            'job_key': job_key,\n",
    "            'job_link': job_link,\n",
    "            'job_summary': job_summary\n",
    "        }\n",
    "\n",
    "        return entry\n",
    "\n",
    "\n",
    "def get_jobs_with_salary(job_title, salary_label, df):\n",
    "    \"\"\"\n",
    "        This function fetches jobs with the specified job title and salary\n",
    "    \"\"\"\n",
    "    f = furl(BASE_URL)\n",
    "    f.args['q'] = '{} {}'.format(job_title, salary_label)\n",
    "    f.args['l'] = city\n",
    "    f.args['radius'] = 100\n",
    "    f.args['sort'] = 'date'\n",
    "\n",
    "    for page in tqdm(range(1, 101)):\n",
    "        # Indeed only allows job ads in the first 100 pages (1101 jobs)\n",
    "        # to be fetched\n",
    "        page = (page-1) * 10\n",
    "        f.args['start'] = page\n",
    "        url = f.url\n",
    "\n",
    "        entry = scrape_jobs_using_soup(url, df)\n",
    "        try:\n",
    "            entry['salary_label'] = salary_label\n",
    "        except TypeError:\n",
    "            pass\n",
    "\n",
    "        df = df.append(entry, ignore_index=True)\n",
    "\n",
    "    return df\n",
    "\n",
    "\n",
    "def get_jobs_with_title(job_title):\n",
    "    \"\"\"\n",
    "        This function fetches job ads with the specified title from Indeed\n",
    "    \"\"\"\n",
    "    try:\n",
    "        # If there is a csv file with job descriptions populated already,\n",
    "        # read the file using Pandas\n",
    "        df = pd.read_csv(JOBS_FILE_PATH)\n",
    "    except OSError:\n",
    "        # If not, intialize a new dataframe to store the jobs\n",
    "        df = pd.DataFrame()\n",
    "\n",
    "    salary_labels = np.arange(55000, 125001, 10000)\n",
    "    salary_labels = ['$' + str(label) for label in salary_labels][::-1]\n",
    "\n",
    "    for label in salary_labels:\n",
    "        df = get_jobs_with_salary(job_title, label, df)\n",
    "        df.to_csv('jobs.csv', index=False)\n",
    "\n",
    "    return df"
   ]
  },
  {
   "cell_type": "code",
   "execution_count": 3,
   "metadata": {
    "collapsed": false
   },
   "outputs": [
    {
     "name": "stderr",
     "output_type": "stream",
     "text": [
      "100%|██████████| 5/5 [00:03<00:00,  1.65it/s]\n",
      "100%|██████████| 5/5 [00:09<00:00,  1.90s/it]\n",
      "100%|██████████| 5/5 [00:02<00:00,  2.05it/s]\n",
      "100%|██████████| 5/5 [00:06<00:00,  1.30s/it]\n",
      "100%|██████████| 5/5 [00:07<00:00,  1.45s/it]\n",
      "100%|██████████| 5/5 [00:04<00:00,  1.21it/s]\n",
      "100%|██████████| 5/5 [00:05<00:00,  1.00s/it]\n",
      "100%|██████████| 5/5 [00:04<00:00,  1.20it/s]\n"
     ]
    }
   ],
   "source": [
    "df = get_jobs_with_title('Data Scientist')\n",
    "# df.to_csv('jobs.csv', index=False)"
   ]
  },
  {
   "cell_type": "code",
   "execution_count": 4,
   "metadata": {
    "collapsed": false
   },
   "outputs": [
    {
     "data": {
      "text/html": [
       "<div>\n",
       "<style scoped>\n",
       "    .dataframe tbody tr th:only-of-type {\n",
       "        vertical-align: middle;\n",
       "    }\n",
       "\n",
       "    .dataframe tbody tr th {\n",
       "        vertical-align: top;\n",
       "    }\n",
       "\n",
       "    .dataframe thead th {\n",
       "        text-align: right;\n",
       "    }\n",
       "</style>\n",
       "<table border=\"1\" class=\"dataframe\">\n",
       "  <thead>\n",
       "    <tr style=\"text-align: right;\">\n",
       "      <th></th>\n",
       "      <th>company_name</th>\n",
       "      <th>job_key</th>\n",
       "      <th>job_link</th>\n",
       "      <th>job_location</th>\n",
       "      <th>job_summary</th>\n",
       "      <th>job_title</th>\n",
       "      <th>salary_label</th>\n",
       "    </tr>\n",
       "  </thead>\n",
       "  <tbody>\n",
       "    <tr>\n",
       "      <th>0</th>\n",
       "      <td>Marsh &amp; McLennan Companies</td>\n",
       "      <td>198968a6da733e07</td>\n",
       "      <td>https://www.indeed.com/viewjob?jk=198968a6da73...</td>\n",
       "      <td>New York, NY</td>\n",
       "      <td>.\\nLocation: Flexible; New York City preferred...</td>\n",
       "      <td>Head of Enterprise Data Architecture</td>\n",
       "      <td>$125000</td>\n",
       "    </tr>\n",
       "    <tr>\n",
       "      <th>1</th>\n",
       "      <td>CyberCoders</td>\n",
       "      <td>9e3296afd9d25841</td>\n",
       "      <td>https://www.indeed.com/viewjob?jk=9e3296afd9d2...</td>\n",
       "      <td>New York, NY 10001</td>\n",
       "      <td>Data Engineer\\nIf you are a Data Engineer with...</td>\n",
       "      <td>Data Engineer</td>\n",
       "      <td>$125000</td>\n",
       "    </tr>\n",
       "    <tr>\n",
       "      <th>2</th>\n",
       "      <td>Darwin Recruitment</td>\n",
       "      <td>33872ff1482137b7</td>\n",
       "      <td>https://www.indeed.com/viewjob?jk=33872ff14821...</td>\n",
       "      <td>Manhattan, NY</td>\n",
       "      <td>Darwin Recruitment are currently partnered wit...</td>\n",
       "      <td>Senior Data Scientist</td>\n",
       "      <td>$125000</td>\n",
       "    </tr>\n",
       "    <tr>\n",
       "      <th>3</th>\n",
       "      <td>Neuberger Berman</td>\n",
       "      <td>d796a3c2b53d8cf0</td>\n",
       "      <td>https://www.indeed.com/viewjob?jk=d796a3c2b53d...</td>\n",
       "      <td>New York, NY</td>\n",
       "      <td>Summary:\\nSeeking a highly motivated individua...</td>\n",
       "      <td>Data Scientist</td>\n",
       "      <td>$125000</td>\n",
       "    </tr>\n",
       "    <tr>\n",
       "      <th>4</th>\n",
       "      <td>Aaptiv</td>\n",
       "      <td>82be444cca1377ae</td>\n",
       "      <td>https://www.indeed.com/viewjob?jk=82be444cca13...</td>\n",
       "      <td>New York, NY</td>\n",
       "      <td>About Aaptiv\\n\\nAaptiv is the fastest growing ...</td>\n",
       "      <td>Senior Backend Engineer - Search</td>\n",
       "      <td>$125000</td>\n",
       "    </tr>\n",
       "  </tbody>\n",
       "</table>\n",
       "</div>"
      ],
      "text/plain": [
       "                 company_name           job_key  \\\n",
       "0  Marsh & McLennan Companies  198968a6da733e07   \n",
       "1                 CyberCoders  9e3296afd9d25841   \n",
       "2          Darwin Recruitment  33872ff1482137b7   \n",
       "3            Neuberger Berman  d796a3c2b53d8cf0   \n",
       "4                      Aaptiv  82be444cca1377ae   \n",
       "\n",
       "                                            job_link        job_location  \\\n",
       "0  https://www.indeed.com/viewjob?jk=198968a6da73...        New York, NY   \n",
       "1  https://www.indeed.com/viewjob?jk=9e3296afd9d2...  New York, NY 10001   \n",
       "2  https://www.indeed.com/viewjob?jk=33872ff14821...       Manhattan, NY   \n",
       "3  https://www.indeed.com/viewjob?jk=d796a3c2b53d...        New York, NY   \n",
       "4  https://www.indeed.com/viewjob?jk=82be444cca13...        New York, NY   \n",
       "\n",
       "                                         job_summary  \\\n",
       "0  .\\nLocation: Flexible; New York City preferred...   \n",
       "1  Data Engineer\\nIf you are a Data Engineer with...   \n",
       "2  Darwin Recruitment are currently partnered wit...   \n",
       "3  Summary:\\nSeeking a highly motivated individua...   \n",
       "4  About Aaptiv\\n\\nAaptiv is the fastest growing ...   \n",
       "\n",
       "                              job_title salary_label  \n",
       "0  Head of Enterprise Data Architecture      $125000  \n",
       "1                         Data Engineer      $125000  \n",
       "2                 Senior Data Scientist      $125000  \n",
       "3                        Data Scientist      $125000  \n",
       "4      Senior Backend Engineer - Search      $125000  "
      ]
     },
     "execution_count": 4,
     "metadata": {},
     "output_type": "execute_result"
    }
   ],
   "source": [
    "df = pd.read_csv('jobs.csv')\n",
    "df.head()"
   ]
  },
  {
   "cell_type": "markdown",
   "metadata": {},
   "source": [
    "### Data Preprocessing"
   ]
  },
  {
   "cell_type": "markdown",
   "metadata": {},
   "source": [
    "Before proceeding with modeling, we need to preprocess and clean the data. Cleaning involves removing the stop words, non alphanumeric characters and unnecessary white spaces. This is done with the help of regular expressions and the NLTK library which has a corpus of all the stop words in English."
   ]
  },
  {
   "cell_type": "code",
   "execution_count": 5,
   "metadata": {
    "collapsed": true
   },
   "outputs": [],
   "source": [
    "def clean(job_summary):\n",
    "    # Removing non alphanumeric characters\n",
    "    js = re.sub('[^a-zA-Z\\d]', ' ', job_summary)\n",
    "    # Removing unnecessary white spaces\n",
    "    js = re.sub(' +', ' ', js).strip()\n",
    "    # Removing all the stop words\n",
    "    words = nltk.word_tokenize(js.lower())\n",
    "    filtered_words = [word for word in words\n",
    "                      if word not in nltk.corpus.stopwords.words('english')]\n",
    "    return ' '.join(filtered_words)\n",
    "\n",
    "\n",
    "def clean_column(df, column_name):\n",
    "    for index, column in tqdm(enumerate(df[column_name])):\n",
    "        cleaned_column = clean(column)\n",
    "        df.set_value(index, column_name, cleaned_column)"
   ]
  },
  {
   "cell_type": "code",
   "execution_count": 6,
   "metadata": {
    "collapsed": true
   },
   "outputs": [],
   "source": [
    "le = LabelEncoder()\n",
    "le.fit(df['salary_label'])\n",
    "\n",
    "df['salary_label_original'] = df['salary_label']\n",
    "df['salary_label'] = le.transform(df['salary_label'])"
   ]
  },
  {
   "cell_type": "code",
   "execution_count": 7,
   "metadata": {
    "collapsed": false
   },
   "outputs": [
    {
     "name": "stderr",
     "output_type": "stream",
     "text": [
      "0it [00:00, ?it/s]/Users/vishnupillai/anaconda3/lib/python3.6/site-packages/ipykernel/__main__.py:15: FutureWarning: set_value is deprecated and will be removed in a future release. Please use .at[] or .iat[] accessors instead\n",
      "40it [00:03, 12.68it/s]\n",
      "40it [00:00, 1162.32it/s]\n"
     ]
    },
    {
     "data": {
      "text/html": [
       "<div>\n",
       "<style scoped>\n",
       "    .dataframe tbody tr th:only-of-type {\n",
       "        vertical-align: middle;\n",
       "    }\n",
       "\n",
       "    .dataframe tbody tr th {\n",
       "        vertical-align: top;\n",
       "    }\n",
       "\n",
       "    .dataframe thead th {\n",
       "        text-align: right;\n",
       "    }\n",
       "</style>\n",
       "<table border=\"1\" class=\"dataframe\">\n",
       "  <thead>\n",
       "    <tr style=\"text-align: right;\">\n",
       "      <th></th>\n",
       "      <th>company_name</th>\n",
       "      <th>job_key</th>\n",
       "      <th>job_link</th>\n",
       "      <th>job_location</th>\n",
       "      <th>job_summary</th>\n",
       "      <th>job_title</th>\n",
       "      <th>salary_label</th>\n",
       "      <th>salary_label_original</th>\n",
       "    </tr>\n",
       "  </thead>\n",
       "  <tbody>\n",
       "    <tr>\n",
       "      <th>0</th>\n",
       "      <td>Marsh &amp; McLennan Companies</td>\n",
       "      <td>198968a6da733e07</td>\n",
       "      <td>https://www.indeed.com/viewjob?jk=198968a6da73...</td>\n",
       "      <td>New York, NY</td>\n",
       "      <td>location flexible new york city preferred succ...</td>\n",
       "      <td>head enterprise data architecture</td>\n",
       "      <td>2</td>\n",
       "      <td>$125000</td>\n",
       "    </tr>\n",
       "    <tr>\n",
       "      <th>1</th>\n",
       "      <td>CyberCoders</td>\n",
       "      <td>9e3296afd9d25841</td>\n",
       "      <td>https://www.indeed.com/viewjob?jk=9e3296afd9d2...</td>\n",
       "      <td>New York, NY 10001</td>\n",
       "      <td>data engineer data engineer experience please ...</td>\n",
       "      <td>data engineer</td>\n",
       "      <td>2</td>\n",
       "      <td>$125000</td>\n",
       "    </tr>\n",
       "    <tr>\n",
       "      <th>2</th>\n",
       "      <td>Darwin Recruitment</td>\n",
       "      <td>33872ff1482137b7</td>\n",
       "      <td>https://www.indeed.com/viewjob?jk=33872ff14821...</td>\n",
       "      <td>Manhattan, NY</td>\n",
       "      <td>darwin recruitment currently partnered global ...</td>\n",
       "      <td>senior data scientist</td>\n",
       "      <td>2</td>\n",
       "      <td>$125000</td>\n",
       "    </tr>\n",
       "    <tr>\n",
       "      <th>3</th>\n",
       "      <td>Neuberger Berman</td>\n",
       "      <td>d796a3c2b53d8cf0</td>\n",
       "      <td>https://www.indeed.com/viewjob?jk=d796a3c2b53d...</td>\n",
       "      <td>New York, NY</td>\n",
       "      <td>summary seeking highly motivated individual st...</td>\n",
       "      <td>data scientist</td>\n",
       "      <td>2</td>\n",
       "      <td>$125000</td>\n",
       "    </tr>\n",
       "    <tr>\n",
       "      <th>4</th>\n",
       "      <td>Aaptiv</td>\n",
       "      <td>82be444cca1377ae</td>\n",
       "      <td>https://www.indeed.com/viewjob?jk=82be444cca13...</td>\n",
       "      <td>New York, NY</td>\n",
       "      <td>aaptiv aaptiv fastest growing mobile fitness p...</td>\n",
       "      <td>senior backend engineer search</td>\n",
       "      <td>2</td>\n",
       "      <td>$125000</td>\n",
       "    </tr>\n",
       "  </tbody>\n",
       "</table>\n",
       "</div>"
      ],
      "text/plain": [
       "                 company_name           job_key  \\\n",
       "0  Marsh & McLennan Companies  198968a6da733e07   \n",
       "1                 CyberCoders  9e3296afd9d25841   \n",
       "2          Darwin Recruitment  33872ff1482137b7   \n",
       "3            Neuberger Berman  d796a3c2b53d8cf0   \n",
       "4                      Aaptiv  82be444cca1377ae   \n",
       "\n",
       "                                            job_link        job_location  \\\n",
       "0  https://www.indeed.com/viewjob?jk=198968a6da73...        New York, NY   \n",
       "1  https://www.indeed.com/viewjob?jk=9e3296afd9d2...  New York, NY 10001   \n",
       "2  https://www.indeed.com/viewjob?jk=33872ff14821...       Manhattan, NY   \n",
       "3  https://www.indeed.com/viewjob?jk=d796a3c2b53d...        New York, NY   \n",
       "4  https://www.indeed.com/viewjob?jk=82be444cca13...        New York, NY   \n",
       "\n",
       "                                         job_summary  \\\n",
       "0  location flexible new york city preferred succ...   \n",
       "1  data engineer data engineer experience please ...   \n",
       "2  darwin recruitment currently partnered global ...   \n",
       "3  summary seeking highly motivated individual st...   \n",
       "4  aaptiv aaptiv fastest growing mobile fitness p...   \n",
       "\n",
       "                           job_title  salary_label salary_label_original  \n",
       "0  head enterprise data architecture             2               $125000  \n",
       "1                      data engineer             2               $125000  \n",
       "2              senior data scientist             2               $125000  \n",
       "3                     data scientist             2               $125000  \n",
       "4     senior backend engineer search             2               $125000  "
      ]
     },
     "execution_count": 7,
     "metadata": {},
     "output_type": "execute_result"
    }
   ],
   "source": [
    "clean_column(df, 'job_summary')\n",
    "clean_column(df, 'job_title')\n",
    "df.to_csv('jobs.csv', index=False)\n",
    "df.head()"
   ]
  },
  {
   "cell_type": "markdown",
   "metadata": {},
   "source": [
    "We now need to split the dataset into train and test for modeling. Before proceeding, let's load in a dataset with more jobs."
   ]
  },
  {
   "cell_type": "code",
   "execution_count": 8,
   "metadata": {
    "collapsed": false
   },
   "outputs": [
    {
     "name": "stdout",
     "output_type": "stream",
     "text": [
      "The dataframe contains 10404 rows\n"
     ]
    }
   ],
   "source": [
    "df = pd.read_csv('jobs_final.csv')\n",
    "print('The dataframe contains {} rows'.format(len(df)))"
   ]
  },
  {
   "cell_type": "code",
   "execution_count": 9,
   "metadata": {
    "collapsed": false
   },
   "outputs": [
    {
     "data": {
      "text/html": [
       "<div>\n",
       "<style scoped>\n",
       "    .dataframe tbody tr th:only-of-type {\n",
       "        vertical-align: middle;\n",
       "    }\n",
       "\n",
       "    .dataframe tbody tr th {\n",
       "        vertical-align: top;\n",
       "    }\n",
       "\n",
       "    .dataframe thead th {\n",
       "        text-align: right;\n",
       "    }\n",
       "</style>\n",
       "<table border=\"1\" class=\"dataframe\">\n",
       "  <thead>\n",
       "    <tr style=\"text-align: right;\">\n",
       "      <th></th>\n",
       "      <th>job_summary</th>\n",
       "      <th>job_title</th>\n",
       "      <th>salary_label</th>\n",
       "    </tr>\n",
       "  </thead>\n",
       "  <tbody>\n",
       "    <tr>\n",
       "      <th>0</th>\n",
       "      <td>person deep understanding big data lead team b...</td>\n",
       "      <td>data scientist</td>\n",
       "      <td>8</td>\n",
       "    </tr>\n",
       "    <tr>\n",
       "      <th>1</th>\n",
       "      <td>would like take experience data scientist move...</td>\n",
       "      <td>principal data scientist northern new jersey</td>\n",
       "      <td>8</td>\n",
       "    </tr>\n",
       "    <tr>\n",
       "      <th>2</th>\n",
       "      <td>leading trading firm searching data scientist ...</td>\n",
       "      <td>quantitative researcher data scientist</td>\n",
       "      <td>8</td>\n",
       "    </tr>\n",
       "    <tr>\n",
       "      <th>3</th>\n",
       "      <td>role purpose elsevier adaptive learning develo...</td>\n",
       "      <td>data scientist</td>\n",
       "      <td>8</td>\n",
       "    </tr>\n",
       "    <tr>\n",
       "      <th>4</th>\n",
       "      <td>new york city ny 150 000 180 000 base salary p...</td>\n",
       "      <td>director data scientist modeler</td>\n",
       "      <td>8</td>\n",
       "    </tr>\n",
       "  </tbody>\n",
       "</table>\n",
       "</div>"
      ],
      "text/plain": [
       "                                         job_summary  \\\n",
       "0  person deep understanding big data lead team b...   \n",
       "1  would like take experience data scientist move...   \n",
       "2  leading trading firm searching data scientist ...   \n",
       "3  role purpose elsevier adaptive learning develo...   \n",
       "4  new york city ny 150 000 180 000 base salary p...   \n",
       "\n",
       "                                      job_title  salary_label  \n",
       "0                                data scientist             8  \n",
       "1  principal data scientist northern new jersey             8  \n",
       "2        quantitative researcher data scientist             8  \n",
       "3                                data scientist             8  \n",
       "4               director data scientist modeler             8  "
      ]
     },
     "execution_count": 9,
     "metadata": {},
     "output_type": "execute_result"
    }
   ],
   "source": [
    "df = df.loc[:, df.columns.isin(['job_summary', 'job_title', 'salary_label'])]\n",
    "df.head()"
   ]
  },
  {
   "cell_type": "markdown",
   "metadata": {},
   "source": [
    "Split the dataset into train and test. Train = 80% and test = 20%."
   ]
  },
  {
   "cell_type": "code",
   "execution_count": 10,
   "metadata": {
    "collapsed": false
   },
   "outputs": [
    {
     "data": {
      "text/html": [
       "<div>\n",
       "<style scoped>\n",
       "    .dataframe tbody tr th:only-of-type {\n",
       "        vertical-align: middle;\n",
       "    }\n",
       "\n",
       "    .dataframe tbody tr th {\n",
       "        vertical-align: top;\n",
       "    }\n",
       "\n",
       "    .dataframe thead th {\n",
       "        text-align: right;\n",
       "    }\n",
       "</style>\n",
       "<table border=\"1\" class=\"dataframe\">\n",
       "  <thead>\n",
       "    <tr style=\"text-align: right;\">\n",
       "      <th></th>\n",
       "      <th>job_summary</th>\n",
       "      <th>job_title</th>\n",
       "      <th>salary_label</th>\n",
       "    </tr>\n",
       "  </thead>\n",
       "  <tbody>\n",
       "    <tr>\n",
       "      <th>9578</th>\n",
       "      <td>codes software applications adhere designs sup...</td>\n",
       "      <td>full stack developer python angular</td>\n",
       "      <td>2</td>\n",
       "    </tr>\n",
       "    <tr>\n",
       "      <th>1783</th>\n",
       "      <td>digital revolution changing everything everywh...</td>\n",
       "      <td>digital strategy senior manager insurance</td>\n",
       "      <td>8</td>\n",
       "    </tr>\n",
       "    <tr>\n",
       "      <th>4328</th>\n",
       "      <td>beyond creative agency based new york london s...</td>\n",
       "      <td>product manager</td>\n",
       "      <td>6</td>\n",
       "    </tr>\n",
       "    <tr>\n",
       "      <th>8743</th>\n",
       "      <td>achieve success world global adaptation produc...</td>\n",
       "      <td>sr developer craft</td>\n",
       "      <td>3</td>\n",
       "    </tr>\n",
       "    <tr>\n",
       "      <th>4682</th>\n",
       "      <td>cherryroad looking java cloud developer partic...</td>\n",
       "      <td>java developer</td>\n",
       "      <td>6</td>\n",
       "    </tr>\n",
       "  </tbody>\n",
       "</table>\n",
       "</div>"
      ],
      "text/plain": [
       "                                            job_summary  \\\n",
       "9578  codes software applications adhere designs sup...   \n",
       "1783  digital revolution changing everything everywh...   \n",
       "4328  beyond creative agency based new york london s...   \n",
       "8743  achieve success world global adaptation produc...   \n",
       "4682  cherryroad looking java cloud developer partic...   \n",
       "\n",
       "                                      job_title  salary_label  \n",
       "9578        full stack developer python angular             2  \n",
       "1783  digital strategy senior manager insurance             8  \n",
       "4328                            product manager             6  \n",
       "8743                         sr developer craft             3  \n",
       "4682                             java developer             6  "
      ]
     },
     "execution_count": 10,
     "metadata": {},
     "output_type": "execute_result"
    }
   ],
   "source": [
    "train = df.sample(frac=0.8, random_state=200)\n",
    "test = df.drop(train.index)\n",
    "\n",
    "train.head()"
   ]
  },
  {
   "cell_type": "markdown",
   "metadata": {},
   "source": [
    "Since job titles could determine job salaries, we concatenate it with the job description."
   ]
  },
  {
   "cell_type": "code",
   "execution_count": 11,
   "metadata": {
    "collapsed": true
   },
   "outputs": [],
   "source": [
    "def concat(title, summary):\n",
    "    job_details = title + ' ' + summary\n",
    "    return job_details\n",
    "\n",
    "\n",
    "def get_job_details(df):\n",
    "    job_details_list = []\n",
    "    for row in df.itertuples():\n",
    "        job_details = concat(row[2], row[1])\n",
    "        job_details_list.append(job_details)\n",
    "    return job_details_list"
   ]
  },
  {
   "cell_type": "markdown",
   "metadata": {},
   "source": [
    "### Modeling"
   ]
  },
  {
   "cell_type": "code",
   "execution_count": 12,
   "metadata": {
    "collapsed": false
   },
   "outputs": [],
   "source": [
    "def model(train, test):\n",
    "    \"\"\"\n",
    "        This function trains our model and returns predictions\n",
    "        for test data\n",
    "    \"\"\"\n",
    "    train_jd = get_job_details(train)\n",
    "    test_jd = get_job_details(test)\n",
    "\n",
    "    # Convert text into matrix of token counts\n",
    "    counter = CountVectorizer()\n",
    "    counter.fit(train_jd)\n",
    "\n",
    "    counts_train = counter.transform(train_jd)\n",
    "    counts_test = counter.transform(test_jd)\n",
    "\n",
    "    mnb_classifier = MultinomialNB()\n",
    "    knn_classifier = KNeighborsClassifier()\n",
    "    lreg_classifier = LogisticRegression()\n",
    "    dt_classifier = DecisionTreeClassifier()\n",
    "\n",
    "    predictors = [\n",
    "        ('mnb', mnb_classifier),\n",
    "        ('knn', knn_classifier),\n",
    "        ('lreg', lreg_classifier),\n",
    "        ('dt', dt_classifier)\n",
    "    ]\n",
    "    voting_classifier = VotingClassifier(predictors)\n",
    "\n",
    "    # Train the model\n",
    "    voting_classifier.fit(counts_train, train['salary_label'])\n",
    "\n",
    "    # Predict the labels for test data\n",
    "    predicted = voting_classifier.predict(counts_test)\n",
    "\n",
    "    return predicted"
   ]
  },
  {
   "cell_type": "markdown",
   "metadata": {},
   "source": [
    "We use a ensemble machine learing model to predict the salaries. To achieve this, voting classifier from sklearn is used. Multinomial Naive Bayes, K-Nearest Neighbor, Logistic Regression & Decision Tree classifiers are the predictors for our voting classifier."
   ]
  },
  {
   "cell_type": "code",
   "execution_count": 13,
   "metadata": {
    "collapsed": false
   },
   "outputs": [],
   "source": [
    "predicted = model(train, test)"
   ]
  },
  {
   "cell_type": "markdown",
   "metadata": {},
   "source": [
    "### Results"
   ]
  },
  {
   "cell_type": "code",
   "execution_count": 14,
   "metadata": {
    "collapsed": false
   },
   "outputs": [
    {
     "name": "stderr",
     "output_type": "stream",
     "text": [
      "/Users/vishnupillai/anaconda3/lib/python3.6/site-packages/ipykernel/__main__.py:2: SettingWithCopyWarning: \n",
      "A value is trying to be set on a copy of a slice from a DataFrame.\n",
      "Try using .loc[row_indexer,col_indexer] = value instead\n",
      "\n",
      "See the caveats in the documentation: http://pandas.pydata.org/pandas-docs/stable/indexing.html#indexing-view-versus-copy\n",
      "  from ipykernel import kernelapp as app\n",
      "/Users/vishnupillai/anaconda3/lib/python3.6/site-packages/ipykernel/__main__.py:6: SettingWithCopyWarning: \n",
      "A value is trying to be set on a copy of a slice from a DataFrame.\n",
      "Try using .loc[row_indexer,col_indexer] = value instead\n",
      "\n",
      "See the caveats in the documentation: http://pandas.pydata.org/pandas-docs/stable/indexing.html#indexing-view-versus-copy\n",
      "/Users/vishnupillai/anaconda3/lib/python3.6/site-packages/ipykernel/__main__.py:7: SettingWithCopyWarning: \n",
      "A value is trying to be set on a copy of a slice from a DataFrame.\n",
      "Try using .loc[row_indexer,col_indexer] = value instead\n",
      "\n",
      "See the caveats in the documentation: http://pandas.pydata.org/pandas-docs/stable/indexing.html#indexing-view-versus-copy\n"
     ]
    },
    {
     "data": {
      "text/html": [
       "<div>\n",
       "<style scoped>\n",
       "    .dataframe tbody tr th:only-of-type {\n",
       "        vertical-align: middle;\n",
       "    }\n",
       "\n",
       "    .dataframe tbody tr th {\n",
       "        vertical-align: top;\n",
       "    }\n",
       "\n",
       "    .dataframe thead th {\n",
       "        text-align: right;\n",
       "    }\n",
       "</style>\n",
       "<table border=\"1\" class=\"dataframe\">\n",
       "  <thead>\n",
       "    <tr style=\"text-align: right;\">\n",
       "      <th></th>\n",
       "      <th>actual</th>\n",
       "      <th>predicted</th>\n",
       "    </tr>\n",
       "  </thead>\n",
       "  <tbody>\n",
       "    <tr>\n",
       "      <th>2</th>\n",
       "      <td>8</td>\n",
       "      <td>8</td>\n",
       "    </tr>\n",
       "    <tr>\n",
       "      <th>3</th>\n",
       "      <td>8</td>\n",
       "      <td>8</td>\n",
       "    </tr>\n",
       "    <tr>\n",
       "      <th>5</th>\n",
       "      <td>8</td>\n",
       "      <td>8</td>\n",
       "    </tr>\n",
       "    <tr>\n",
       "      <th>17</th>\n",
       "      <td>8</td>\n",
       "      <td>8</td>\n",
       "    </tr>\n",
       "    <tr>\n",
       "      <th>18</th>\n",
       "      <td>8</td>\n",
       "      <td>4</td>\n",
       "    </tr>\n",
       "  </tbody>\n",
       "</table>\n",
       "</div>"
      ],
      "text/plain": [
       "    actual  predicted\n",
       "2        8          8\n",
       "3        8          8\n",
       "5        8          8\n",
       "17       8          8\n",
       "18       8          4"
      ]
     },
     "execution_count": 14,
     "metadata": {},
     "output_type": "execute_result"
    }
   ],
   "source": [
    "result = test.loc[:, test.columns.isin(['salary_label'])]\n",
    "result['predicted'] = predicted\n",
    "# Rename the columns\n",
    "result.columns = ['actual', 'predicted']\n",
    "\n",
    "result['actual'] = pd.to_numeric(result['actual'], errors='coerce')\n",
    "result['predicted'] = pd.to_numeric(result['predicted'], errors='coerce')\n",
    "\n",
    "result.head()"
   ]
  },
  {
   "cell_type": "markdown",
   "metadata": {},
   "source": [
    "Calculating the accuracy score of our model"
   ]
  },
  {
   "cell_type": "code",
   "execution_count": 15,
   "metadata": {
    "collapsed": false
   },
   "outputs": [
    {
     "data": {
      "text/plain": [
       "0.37097549255165785"
      ]
     },
     "execution_count": 15,
     "metadata": {},
     "output_type": "execute_result"
    }
   ],
   "source": [
    "accuracy_score(result['actual'], result['predicted'])"
   ]
  },
  {
   "cell_type": "markdown",
   "metadata": {},
   "source": [
    "We get an accuracy of 37.1% which is pretty low. However, accuracy is always not the best indicator of how good the model is. Since we are dealing with salary ranges with difference of \\$10k here, we could see how good the model is predicting with a single range error."
   ]
  },
  {
   "cell_type": "code",
   "execution_count": 16,
   "metadata": {
    "collapsed": false
   },
   "outputs": [
    {
     "data": {
      "text/html": [
       "<div>\n",
       "<style scoped>\n",
       "    .dataframe tbody tr th:only-of-type {\n",
       "        vertical-align: middle;\n",
       "    }\n",
       "\n",
       "    .dataframe tbody tr th {\n",
       "        vertical-align: top;\n",
       "    }\n",
       "\n",
       "    .dataframe thead th {\n",
       "        text-align: right;\n",
       "    }\n",
       "</style>\n",
       "<table border=\"1\" class=\"dataframe\">\n",
       "  <thead>\n",
       "    <tr style=\"text-align: right;\">\n",
       "      <th></th>\n",
       "      <th>actual</th>\n",
       "      <th>predicted</th>\n",
       "      <th>difference</th>\n",
       "    </tr>\n",
       "  </thead>\n",
       "  <tbody>\n",
       "    <tr>\n",
       "      <th>2</th>\n",
       "      <td>8</td>\n",
       "      <td>8</td>\n",
       "      <td>0</td>\n",
       "    </tr>\n",
       "    <tr>\n",
       "      <th>3</th>\n",
       "      <td>8</td>\n",
       "      <td>8</td>\n",
       "      <td>0</td>\n",
       "    </tr>\n",
       "    <tr>\n",
       "      <th>5</th>\n",
       "      <td>8</td>\n",
       "      <td>8</td>\n",
       "      <td>0</td>\n",
       "    </tr>\n",
       "    <tr>\n",
       "      <th>17</th>\n",
       "      <td>8</td>\n",
       "      <td>8</td>\n",
       "      <td>0</td>\n",
       "    </tr>\n",
       "    <tr>\n",
       "      <th>18</th>\n",
       "      <td>8</td>\n",
       "      <td>4</td>\n",
       "      <td>4</td>\n",
       "    </tr>\n",
       "  </tbody>\n",
       "</table>\n",
       "</div>"
      ],
      "text/plain": [
       "    actual  predicted  difference\n",
       "2        8          8           0\n",
       "3        8          8           0\n",
       "5        8          8           0\n",
       "17       8          8           0\n",
       "18       8          4           4"
      ]
     },
     "execution_count": 16,
     "metadata": {},
     "output_type": "execute_result"
    }
   ],
   "source": [
    "result['difference'] = np.absolute(result['actual'].\n",
    "                                   subtract(result['predicted']))\n",
    "result.head()"
   ]
  },
  {
   "cell_type": "code",
   "execution_count": 17,
   "metadata": {
    "collapsed": false
   },
   "outputs": [
    {
     "data": {
      "text/plain": [
       "0.6746756367131187"
      ]
     },
     "execution_count": 17,
     "metadata": {},
     "output_type": "execute_result"
    }
   ],
   "source": [
    "len(result[result['difference'] <= 1]) / len(result)"
   ]
  },
  {
   "cell_type": "markdown",
   "metadata": {},
   "source": [
    "67.47% of the time, it predicts within a single range of error."
   ]
  },
  {
   "cell_type": "code",
   "execution_count": 18,
   "metadata": {
    "collapsed": false
   },
   "outputs": [
    {
     "data": {
      "text/plain": [
       "0.8279673234022105"
      ]
     },
     "execution_count": 18,
     "metadata": {},
     "output_type": "execute_result"
    }
   ],
   "source": [
    "len(result[result['difference'] <= 2]) / len(result)"
   ]
  },
  {
   "cell_type": "markdown",
   "metadata": {},
   "source": [
    "Also, 82.8% of the data are within two ranges of error."
   ]
  },
  {
   "cell_type": "markdown",
   "metadata": {},
   "source": [
    "### Future work"
   ]
  },
  {
   "cell_type": "markdown",
   "metadata": {},
   "source": [
    "We could improve the prediction by better pre-processing the data, increasing the size of the training data and using other machine learning algorithms."
   ]
  }
 ],
 "metadata": {
  "kernelspec": {
   "display_name": "Python [conda env:anaconda3]",
   "language": "python",
   "name": "conda-env-anaconda3-py"
  },
  "language_info": {
   "codemirror_mode": {
    "name": "ipython",
    "version": 3
   },
   "file_extension": ".py",
   "mimetype": "text/x-python",
   "name": "python",
   "nbconvert_exporter": "python",
   "pygments_lexer": "ipython3",
   "version": "3.6.4"
  }
 },
 "nbformat": 4,
 "nbformat_minor": 2
}
